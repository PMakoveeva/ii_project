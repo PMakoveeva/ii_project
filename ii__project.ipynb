{
  "nbformat": 4,
  "nbformat_minor": 0,
  "metadata": {
    "colab": {
      "name": "ii_ project.ipynb",
      "provenance": [],
      "collapsed_sections": []
    },
    "kernelspec": {
      "name": "python3",
      "display_name": "Python 3"
    }
  },
  "cells": [
    {
      "cell_type": "code",
      "metadata": {
        "id": "ykfayTalF6xN"
      },
      "source": [
        "import torch\n",
        "import random\n",
        "import numpy as np\n",
        "import matplotlib.pyplot as plt \n",
        "\n",
        "\n",
        "random.seed(0)\n",
        "np.random.seed(0)\n",
        "torch.manual_seed(0)\n",
        "torch.cuda.manual_seed(0)\n",
        "torch.backends.cudnn.deterministic = True"
      ],
      "execution_count": 293,
      "outputs": []
    },
    {
      "cell_type": "code",
      "metadata": {
        "id": "ipMEc4R9GF9g"
      },
      "source": [
        "import torchvision.datasets\n",
        "MNIST_train = torchvision.datasets.MNIST('./', download=True, train=True)\n",
        "MNIST_test = torchvision.datasets.MNIST('./', download=True, train=False)"
      ],
      "execution_count": 294,
      "outputs": []
    },
    {
      "cell_type": "code",
      "metadata": {
        "colab": {
          "base_uri": "https://localhost:8080/"
        },
        "id": "jQIdQdrBrESd",
        "outputId": "9f5b0fa7-905e-477b-fe6f-4af7f92ea4d6"
      },
      "source": [
        "X_train = MNIST_train.train_data\n",
        "y_train = MNIST_train.train_labels\n",
        "X_test = MNIST_test.test_data\n",
        "y_test = MNIST_test.test_labels"
      ],
      "execution_count": 295,
      "outputs": [
        {
          "output_type": "stream",
          "text": [
            "/usr/local/lib/python3.6/dist-packages/torchvision/datasets/mnist.py:58: UserWarning: train_data has been renamed data\n",
            "  warnings.warn(\"train_data has been renamed data\")\n",
            "/usr/local/lib/python3.6/dist-packages/torchvision/datasets/mnist.py:48: UserWarning: train_labels has been renamed targets\n",
            "  warnings.warn(\"train_labels has been renamed targets\")\n",
            "/usr/local/lib/python3.6/dist-packages/torchvision/datasets/mnist.py:63: UserWarning: test_data has been renamed data\n",
            "  warnings.warn(\"test_data has been renamed data\")\n",
            "/usr/local/lib/python3.6/dist-packages/torchvision/datasets/mnist.py:53: UserWarning: test_labels has been renamed targets\n",
            "  warnings.warn(\"test_labels has been renamed targets\")\n"
          ],
          "name": "stderr"
        }
      ]
    },
    {
      "cell_type": "code",
      "metadata": {
        "colab": {
          "base_uri": "https://localhost:8080/"
        },
        "id": "Mvvkke6wGwgK",
        "outputId": "06dcbd3d-7c22-46b4-cb08-b094c200f0b4"
      },
      "source": [
        "X_train.dtype, y_train.dtype"
      ],
      "execution_count": 296,
      "outputs": [
        {
          "output_type": "execute_result",
          "data": {
            "text/plain": [
              "(torch.uint8, torch.int64)"
            ]
          },
          "metadata": {
            "tags": []
          },
          "execution_count": 296
        }
      ]
    },
    {
      "cell_type": "code",
      "metadata": {
        "id": "UWtIuZWQGwlk"
      },
      "source": [
        "X_train = X_train.float()\n",
        "X_test = X_test.float()"
      ],
      "execution_count": 297,
      "outputs": []
    },
    {
      "cell_type": "code",
      "metadata": {
        "colab": {
          "base_uri": "https://localhost:8080/"
        },
        "id": "QsxBixstGwpC",
        "outputId": "50cfe787-9144-48e0-be63-cbabceb8ad6e"
      },
      "source": [
        "X_train.shape, X_test.shape"
      ],
      "execution_count": 298,
      "outputs": [
        {
          "output_type": "execute_result",
          "data": {
            "text/plain": [
              "(torch.Size([60000, 28, 28]), torch.Size([10000, 28, 28]))"
            ]
          },
          "metadata": {
            "tags": []
          },
          "execution_count": 298
        }
      ]
    },
    {
      "cell_type": "code",
      "metadata": {
        "colab": {
          "base_uri": "https://localhost:8080/"
        },
        "id": "S2LhMeEXG4fB",
        "outputId": "61edd624-4c58-4fe3-eafe-4293cd14d6a7"
      },
      "source": [
        "y_test.shape, y_train.shape"
      ],
      "execution_count": 299,
      "outputs": [
        {
          "output_type": "execute_result",
          "data": {
            "text/plain": [
              "(torch.Size([10000]), torch.Size([60000]))"
            ]
          },
          "metadata": {
            "tags": []
          },
          "execution_count": 299
        }
      ]
    },
    {
      "cell_type": "code",
      "metadata": {
        "colab": {
          "base_uri": "https://localhost:8080/",
          "height": 280
        },
        "id": "YXX5YBuKHELu",
        "outputId": "1b929917-ce55-4c31-a484-5904317132cf"
      },
      "source": [
        "plt.imshow(X_train[0, :, :])\n",
        "plt.show()\n",
        "print(y_train[0])\n"
      ],
      "execution_count": 302,
      "outputs": [
        {
          "output_type": "display_data",
          "data": {
            "image/png": "[encoded data removed]",
            "text/plain": [
              "<Figure size 432x288 with 1 Axes>"
            ]
          },
          "metadata": {
            "tags": [],
            "needs_background": "light"
          }
        },
        {
          "output_type": "stream",
          "text": [
            "tensor(5)\n"
          ],
          "name": "stdout"
        }
      ]
    },
    {
      "cell_type": "code",
      "metadata": {
        "id": "4FptgWtHL3UN"
      },
      "source": [
        "X_train = X_train.reshape([-1, 28 * 28])\n",
        "X_test = X_test.reshape([-1, 28 * 28])"
      ],
      "execution_count": 254,
      "outputs": []
    },
    {
      "cell_type": "code",
      "metadata": {
        "colab": {
          "base_uri": "https://localhost:8080/"
        },
        "id": "ix4o-id2OoRb",
        "outputId": "6ce1b8c5-1b76-4cbc-95ab-c28abf2ff222"
      },
      "source": [
        "X_train.shape, X_test.shape"
      ],
      "execution_count": 255,
      "outputs": [
        {
          "output_type": "execute_result",
          "data": {
            "text/plain": [
              "(torch.Size([60000, 784]), torch.Size([10000, 784]))"
            ]
          },
          "metadata": {
            "tags": []
          },
          "execution_count": 255
        }
      ]
    },
    {
      "cell_type": "markdown",
      "metadata": {
        "id": "L1MvQe4paSMh"
      },
      "source": [
        "# **Распознование рукописных чисел  полносвязной сетью**\n"
      ]
    },
    {
      "cell_type": "code",
      "metadata": {
        "id": "_aoB3sDeOrQq"
      },
      "source": [
        "class MNISTNet(torch.nn.Module):\n",
        "    def __init__(self, n_hidden_neurons):\n",
        "        super(MNISTNet, self).__init__()\n",
        "        self.fc1 = torch.nn.Linear(28 * 28, n_hidden_neurons)\n",
        "        self.ac1 = torch.nn.Sigmoid()\n",
        "        self.fc2 = torch.nn.Linear(n_hidden_neurons, 10) \n",
        "    \n",
        "    def forward(self, x):\n",
        "        x = self.fc1(x)\n",
        "        x = self.ac1(x)\n",
        "        x = self.fc2(x)\n",
        "        return x\n",
        "    \n",
        "mnist_net = MNISTNet(100)"
      ],
      "execution_count": 256,
      "outputs": []
    },
    {
      "cell_type": "code",
      "metadata": {
        "id": "jzZpwIsSPYyl"
      },
      "source": [
        "loss = torch.nn.CrossEntropyLoss()\n",
        "optimizer = torch.optim.Adam(mnist_net.parameters(), lr=1.0e-3)"
      ],
      "execution_count": 257,
      "outputs": []
    },
    {
      "cell_type": "code",
      "metadata": {
        "id": "-NNJhui3wkac"
      },
      "source": [
        ""
      ],
      "execution_count": null,
      "outputs": []
    },
    {
      "cell_type": "code",
      "metadata": {
        "colab": {
          "base_uri": "https://localhost:8080/"
        },
        "id": "vCFR-rErsSa-",
        "outputId": "b56d1a12-bc7b-40c2-bcf3-805151219c93"
      },
      "source": [
        "batch_size = 100\n",
        "\n",
        "test_accuracy_history = []\n",
        "test_loss_history = []\n",
        "\n",
        "for epoch in range(15):\n",
        "    order = np.random.permutation(len(X_train))\n",
        "    \n",
        "    for start_index in range(0, len(X_train), batch_size):\n",
        "        optimizer.zero_grad()\n",
        "        \n",
        "        batch_indexes = order[start_index:start_index+batch_size]\n",
        "        \n",
        "        X_batch = X_train[batch_indexes]\n",
        "        y_batch = y_train[batch_indexes] \n",
        "        \n",
        "        preds = mnist_net.forward(X_batch) \n",
        "        \n",
        "        loss_value = loss(preds, y_batch)\n",
        "        loss_value.backward()\n",
        "        \n",
        "        optimizer.step()\n",
        "\n",
        "    test_preds = mnist_net.forward(X_test)\n",
        "    test_loss_history.append(loss(test_preds, y_test))\n",
        "    \n",
        "    accuracy = (test_preds.argmax(dim=1) == y_test).float().mean()\n",
        "    test_accuracy_history.append(accuracy)\n",
        "    print(accuracy)"
      ],
      "execution_count": 258,
      "outputs": [
        {
          "output_type": "stream",
          "text": [
            "tensor(0.9097)\n",
            "tensor(0.9095)\n",
            "tensor(0.9201)\n",
            "tensor(0.9211)\n",
            "tensor(0.9322)\n",
            "tensor(0.9254)\n",
            "tensor(0.9251)\n",
            "tensor(0.9311)\n",
            "tensor(0.9263)\n",
            "tensor(0.9303)\n",
            "tensor(0.9319)\n",
            "tensor(0.9289)\n",
            "tensor(0.9326)\n",
            "tensor(0.9316)\n",
            "tensor(0.9377)\n"
          ],
          "name": "stdout"
        }
      ]
    },
    {
      "cell_type": "code",
      "metadata": {
        "colab": {
          "base_uri": "https://localhost:8080/"
        },
        "id": "Ko3Q83XPwCVm",
        "outputId": "bada55de-1e1c-46e4-b642-40eae7c9825e"
      },
      "source": [
        "\n",
        "    \n",
        "mnist_net1 = MNISTNet(100)\n",
        "\n",
        "loss = torch.nn.CrossEntropyLoss()\n",
        "optimizer = torch.optim.Adam(mnist_net1.parameters(), lr=1.0e-3)\n",
        "\n",
        "batch_size = 500\n",
        "\n",
        "test_accuracy_history1 = []\n",
        "test_loss_history1 = []\n",
        "\n",
        "for epoch in range(15):\n",
        "    order = np.random.permutation(len(X_train))\n",
        "    \n",
        "    for start_index in range(0, len(X_train), batch_size):\n",
        "        optimizer.zero_grad()\n",
        "        \n",
        "        batch_indexes = order[start_index:start_index+batch_size]\n",
        "        \n",
        "        X_batch = X_train[batch_indexes]\n",
        "        y_batch = y_train[batch_indexes] \n",
        "        \n",
        "        preds = mnist_net1.forward(X_batch) \n",
        "        \n",
        "        loss_value = loss(preds, y_batch)\n",
        "        loss_value.backward()\n",
        "        \n",
        "        optimizer.step()\n",
        "\n",
        "    test_preds = mnist_net1.forward(X_test)\n",
        "    test_loss_history1.append(loss(test_preds, y_test))\n",
        "    \n",
        "    accuracy = (test_preds.argmax(dim=1) == y_test).float().mean()\n",
        "    test_accuracy_history1.append(accuracy)\n",
        "    print(accuracy)"
      ],
      "execution_count": 259,
      "outputs": [
        {
          "output_type": "stream",
          "text": [
            "tensor(0.9036)\n",
            "tensor(0.9229)\n",
            "tensor(0.9273)\n",
            "tensor(0.9327)\n",
            "tensor(0.9326)\n",
            "tensor(0.9380)\n",
            "tensor(0.9401)\n",
            "tensor(0.9407)\n",
            "tensor(0.9402)\n",
            "tensor(0.9437)\n",
            "tensor(0.9434)\n",
            "tensor(0.9403)\n",
            "tensor(0.9447)\n",
            "tensor(0.9460)\n",
            "tensor(0.9451)\n"
          ],
          "name": "stdout"
        }
      ]
    },
    {
      "cell_type": "markdown",
      "metadata": {
        "id": "cNutLTAJvrV3"
      },
      "source": [
        "График точности в зависимости от размера батчей:"
      ]
    },
    {
      "cell_type": "code",
      "metadata": {
        "colab": {
          "base_uri": "https://localhost:8080/",
          "height": 277
        },
        "id": "n_4J4kKEtVmP",
        "outputId": "bd070665-018c-4c78-c490-e7e116760645"
      },
      "source": [
        "plt.xlabel(\"Epoch number\")\n",
        "plt.ylabel(\"Accurancy\")\n",
        "plt.plot(test_accuracy_history, lw = 2,  label=\"s_butch=100\")\n",
        "plt.plot(test_accuracy_history1, lw = 2,  label=\"s_butch=500\")\n",
        "plt.legend();\n"
      ],
      "execution_count": 260,
      "outputs": [
        {
          "output_type": "display_data",
          "data": {
            "image/png": "[encoded data removed]",
            "text/plain": [
              "<Figure size 432x288 with 1 Axes>"
            ]
          },
          "metadata": {
            "tags": [],
            "needs_background": "light"
          }
        }
      ]
    },
    {
      "cell_type": "markdown",
      "metadata": {
        "id": "RVBK-B1Evx63"
      },
      "source": [
        "График loss функции в зависимости от размера батчей:\n"
      ]
    },
    {
      "cell_type": "code",
      "metadata": {
        "colab": {
          "base_uri": "https://localhost:8080/",
          "height": 294
        },
        "id": "cF7GcI-2tvSq",
        "outputId": "5b87f499-24b7-4dd5-b8aa-f80b8ec708b9"
      },
      "source": [
        "plt.xlabel(\"Epoch number\")\n",
        "plt.ylabel(\"Validation loss value\")\n",
        "plt.plot(test_loss_history, lw = 2,  label=\"s_butch=100\");\n",
        "plt.plot(test_loss_history1, lw = 2,  label=\"s_butch=500\");\n",
        "plt.legend()"
      ],
      "execution_count": 261,
      "outputs": [
        {
          "output_type": "execute_result",
          "data": {
            "text/plain": [
              "<matplotlib.legend.Legend at 0x7ff3a3786240>"
            ]
          },
          "metadata": {
            "tags": []
          },
          "execution_count": 261
        },
        {
          "output_type": "display_data",
          "data": {
            "image/png": "[encoded data removed]",
            "text/plain": [
              "<Figure size 432x288 with 1 Axes>"
            ]
          },
          "metadata": {
            "tags": [],
            "needs_background": "light"
          }
        }
      ]
    },
    {
      "cell_type": "markdown",
      "metadata": {
        "id": "dxsT4w6Ua2W-"
      },
      "source": [
        "# **Распознование цифр с помощью сверточной нейронной сети:**\n"
      ]
    },
    {
      "cell_type": "code",
      "metadata": {
        "colab": {
          "base_uri": "https://localhost:8080/"
        },
        "id": "dRV71cRgqxkm",
        "outputId": "5b361022-fd54-4157-bb54-470d4c710245"
      },
      "source": [
        "MNIST_train = torchvision.datasets.MNIST('./', download=True, train=True)\n",
        "MNIST_test = torchvision.datasets.MNIST('./', download=True, train=False)\n",
        "\n",
        "X_train = MNIST_train.train_data\n",
        "y_train = MNIST_train.train_labels\n",
        "X_test = MNIST_test.test_data\n",
        "y_test = MNIST_test.test_labels"
      ],
      "execution_count": 262,
      "outputs": [
        {
          "output_type": "stream",
          "text": [
            "/usr/local/lib/python3.6/dist-packages/torchvision/datasets/mnist.py:58: UserWarning: train_data has been renamed data\n",
            "  warnings.warn(\"train_data has been renamed data\")\n",
            "/usr/local/lib/python3.6/dist-packages/torchvision/datasets/mnist.py:48: UserWarning: train_labels has been renamed targets\n",
            "  warnings.warn(\"train_labels has been renamed targets\")\n",
            "/usr/local/lib/python3.6/dist-packages/torchvision/datasets/mnist.py:63: UserWarning: test_data has been renamed data\n",
            "  warnings.warn(\"test_data has been renamed data\")\n",
            "/usr/local/lib/python3.6/dist-packages/torchvision/datasets/mnist.py:53: UserWarning: test_labels has been renamed targets\n",
            "  warnings.warn(\"test_labels has been renamed targets\")\n"
          ],
          "name": "stderr"
        }
      ]
    },
    {
      "cell_type": "code",
      "metadata": {
        "id": "3o1pBtC2gxrC"
      },
      "source": [
        "X_train = X_train.unsqueeze(1).float()\n",
        "X_test = X_test.unsqueeze(1).float()"
      ],
      "execution_count": 263,
      "outputs": []
    },
    {
      "cell_type": "code",
      "metadata": {
        "colab": {
          "base_uri": "https://localhost:8080/"
        },
        "id": "Pxi4MMf_pyeJ",
        "outputId": "05ab3570-7ba5-4ece-b921-6f8210d17b7a"
      },
      "source": [
        "X_train.shape"
      ],
      "execution_count": 264,
      "outputs": [
        {
          "output_type": "execute_result",
          "data": {
            "text/plain": [
              "torch.Size([60000, 1, 28, 28])"
            ]
          },
          "metadata": {
            "tags": []
          },
          "execution_count": 264
        }
      ]
    },
    {
      "cell_type": "markdown",
      "metadata": {
        "id": "ivolMMVYOIep"
      },
      "source": [
        "Функция активации tanh(), парааметр learning rate у оптимизатора Adam = 1.0e-3"
      ]
    },
    {
      "cell_type": "code",
      "metadata": {
        "id": "95nOuw53jk14"
      },
      "source": [
        "class LeNet5(torch.nn.Module):\n",
        "    def __init__(self):\n",
        "        super(LeNet5, self).__init__()\n",
        "        \n",
        "        self.conv1 = torch.nn.Conv2d(\n",
        "            in_channels=1, out_channels=6, kernel_size=5, padding=2)\n",
        "        self.act1  = torch.nn.Tanh()\n",
        "        self.pool1 = torch.nn.AvgPool2d(kernel_size=2, stride=2)\n",
        "       \n",
        "        self.conv2 = torch.nn.Conv2d(\n",
        "            in_channels=6, out_channels=16, kernel_size=5, padding=0)\n",
        "        self.act2  = torch.nn.Tanh()\n",
        "        self.pool2 = torch.nn.AvgPool2d(kernel_size=2, stride=2)\n",
        "        \n",
        "        self.fc1   = torch.nn.Linear(5 * 5 * 16, 120)\n",
        "        self.act3  = torch.nn.Tanh()\n",
        "        \n",
        "        self.fc2   = torch.nn.Linear(120, 84)\n",
        "        self.act4  = torch.nn.Tanh()\n",
        "        \n",
        "        self.fc3   = torch.nn.Linear(84, 10)\n",
        "    \n",
        "    def forward(self, x):\n",
        "        \n",
        "        x = self.conv1(x)\n",
        "        x = self.act1(x)\n",
        "        x = self.pool1(x)\n",
        "        \n",
        "        x = self.conv2(x)\n",
        "        x = self.act2(x)\n",
        "        x = self.pool2(x)\n",
        "        \n",
        "        x = x.view(x.size(0), x.size(1) * x.size(2) * x.size(3))\n",
        "\n",
        "        x = self.fc1(x)\n",
        "        x = self.act3(x)\n",
        "        x = self.fc2(x)\n",
        "        x = self.act4(x)\n",
        "        x = self.fc3(x)\n",
        "        \n",
        "        return x\n",
        "    \n"
      ],
      "execution_count": 265,
      "outputs": []
    },
    {
      "cell_type": "code",
      "metadata": {
        "id": "nIfxo67Plz01"
      },
      "source": [
        "lenet5 = LeNet5()\n",
        "\n",
        "loss = torch.nn.CrossEntropyLoss()\n",
        "optimizer = torch.optim.Adam(lenet5.parameters(), lr=1.0e-3)"
      ],
      "execution_count": 266,
      "outputs": []
    },
    {
      "cell_type": "code",
      "metadata": {
        "colab": {
          "base_uri": "https://localhost:8080/"
        },
        "id": "O4axtNUBl0DI",
        "outputId": "be40a976-8ee6-4510-fe9b-0cc6a280af9f"
      },
      "source": [
        "batch_size = 700\n",
        "\n",
        "test_accuracy_historyb700 = []\n",
        "test_loss_historyb700 = []\n",
        "\n",
        "\n",
        "for epoch in range(15):\n",
        "    order = np.random.permutation(len(X_train))\n",
        "    for start_index in range(0, len(X_train), batch_size):\n",
        "        optimizer.zero_grad()\n",
        "        \n",
        "        batch_indexes = order[start_index:start_index+batch_size]\n",
        "        \n",
        "        X_batch = X_train[batch_indexes]\n",
        "        y_batch = y_train[batch_indexes]\n",
        "        \n",
        "        preds = lenet5.forward(X_batch) \n",
        "        \n",
        "        loss_value = loss(preds, y_batch)\n",
        "        loss_value.backward()\n",
        "        \n",
        "        optimizer.step()\n",
        "        \n",
        "    test_preds = lenet5.forward(X_test)\n",
        "    test_loss_historyb700.append(loss(test_preds, y_test).data)\n",
        "    \n",
        "    accuracy = (test_preds.argmax(dim=1) == y_test).float().mean().data\n",
        "    test_accuracy_historyb700.append(accuracy)\n",
        "    \n",
        "    print(accuracy)"
      ],
      "execution_count": 267,
      "outputs": [
        {
          "output_type": "stream",
          "text": [
            "tensor(0.9539)\n",
            "tensor(0.9763)\n",
            "tensor(0.9827)\n",
            "tensor(0.9834)\n",
            "tensor(0.9859)\n",
            "tensor(0.9872)\n",
            "tensor(0.9853)\n",
            "tensor(0.9876)\n",
            "tensor(0.9891)\n",
            "tensor(0.9871)\n",
            "tensor(0.9879)\n",
            "tensor(0.9894)\n",
            "tensor(0.9892)\n",
            "tensor(0.9887)\n",
            "tensor(0.9899)\n"
          ],
          "name": "stdout"
        }
      ]
    },
    {
      "cell_type": "markdown",
      "metadata": {
        "id": "mfHDSo4pMldf"
      },
      "source": [
        "Модель сверточной нейронной сети та же, но размер батча уменьшен до 200"
      ]
    },
    {
      "cell_type": "code",
      "metadata": {
        "id": "AyQTGf3aavxi"
      },
      "source": [
        "lenet5b=LeNet5()\n",
        "\n",
        "loss = torch.nn.CrossEntropyLoss()\n",
        "optimizer = torch.optim.Adam(lenet5b.parameters(), lr=1.0e-3)"
      ],
      "execution_count": 268,
      "outputs": []
    },
    {
      "cell_type": "code",
      "metadata": {
        "colab": {
          "base_uri": "https://localhost:8080/"
        },
        "id": "s9J02iIQawt-",
        "outputId": "0a705382-d2db-4d53-ddb9-6906e68503e2"
      },
      "source": [
        "batch_size = 200\n",
        "\n",
        "test_accuracy_historyb200 = []\n",
        "test_loss_historyb200 = []\n",
        "\n",
        "\n",
        "for epoch in range(15):\n",
        "    order = np.random.permutation(len(X_train))\n",
        "    for start_index in range(0, len(X_train), batch_size):\n",
        "        optimizer.zero_grad()\n",
        "        \n",
        "        batch_indexes = order[start_index:start_index+batch_size]\n",
        "        \n",
        "        X_batch = X_train[batch_indexes]\n",
        "        y_batch = y_train[batch_indexes]\n",
        "        \n",
        "        preds = lenet5b.forward(X_batch) \n",
        "        \n",
        "        loss_value = loss(preds, y_batch)\n",
        "        loss_value.backward()\n",
        "        \n",
        "        optimizer.step()\n",
        "        \n",
        "    test_preds = lenet5b.forward(X_test)\n",
        "    test_loss_historyb200.append(loss(test_preds, y_test).data)\n",
        "    \n",
        "    accuracy = (test_preds.argmax(dim=1) == y_test).float().mean().data\n",
        "    test_accuracy_historyb200.append(accuracy)\n",
        "    \n",
        "    print(accuracy)"
      ],
      "execution_count": 269,
      "outputs": [
        {
          "output_type": "stream",
          "text": [
            "tensor(0.9739)\n",
            "tensor(0.9798)\n",
            "tensor(0.9847)\n",
            "tensor(0.9855)\n",
            "tensor(0.9857)\n",
            "tensor(0.9854)\n",
            "tensor(0.9884)\n",
            "tensor(0.9861)\n",
            "tensor(0.9887)\n",
            "tensor(0.9881)\n",
            "tensor(0.9880)\n",
            "tensor(0.9884)\n",
            "tensor(0.9866)\n",
            "tensor(0.9882)\n",
            "tensor(0.9880)\n"
          ],
          "name": "stdout"
        }
      ]
    },
    {
      "cell_type": "markdown",
      "metadata": {
        "id": "NQ5iDMYjWpLx"
      },
      "source": [
        "График точности в зависимости от размера батча:\n"
      ]
    },
    {
      "cell_type": "code",
      "metadata": {
        "colab": {
          "base_uri": "https://localhost:8080/",
          "height": 277
        },
        "id": "NGbJh29ItNYC",
        "outputId": "3ad456ef-1c66-4e28-fc3a-c87e8c08a27b"
      },
      "source": [
        "plt.xlabel(\"Epoch number\")\n",
        "plt.ylabel(\"Accurancy\")\n",
        "\n",
        "plt.plot(test_accuracy_historyb700, lw = 2,  label=\"s_butch=700\");\n",
        "plt.plot(test_accuracy_historyb200, lw = 2,  label=\"s_butch=200\");\n",
        "\n",
        "plt.legend();"
      ],
      "execution_count": 270,
      "outputs": [
        {
          "output_type": "display_data",
          "data": {
            "image/png": "[encoded data removed]",
            "text/plain": [
              "<Figure size 432x288 with 1 Axes>"
            ]
          },
          "metadata": {
            "tags": [],
            "needs_background": "light"
          }
        }
      ]
    },
    {
      "cell_type": "markdown",
      "metadata": {
        "id": "T2qBe0DaW6SA"
      },
      "source": [
        "График loss функции в зависимости от размера батча:"
      ]
    },
    {
      "cell_type": "code",
      "metadata": {
        "colab": {
          "base_uri": "https://localhost:8080/",
          "height": 277
        },
        "id": "FcT_qJYYXEHN",
        "outputId": "ca16cc6b-63ed-4897-fadf-c197abf01c0d"
      },
      "source": [
        "plt.xlabel(\"Epoch number\")\n",
        "plt.ylabel(\"Validation loss value\")\n",
        "\n",
        "plt.plot(test_loss_historyb700, lw = 2,  label=\"s_butch=700\");\n",
        "plt.plot(test_loss_historyb200, lw = 2,  label=\"s_butch=200\");\n",
        "\n",
        "plt.legend();"
      ],
      "execution_count": 271,
      "outputs": [
        {
          "output_type": "display_data",
          "data": {
            "image/png": "[encoded data removed]",
            "text/plain": [
              "<Figure size 432x288 with 1 Axes>"
            ]
          },
          "metadata": {
            "tags": [],
            "needs_background": "light"
          }
        }
      ]
    },
    {
      "cell_type": "code",
      "metadata": {
        "id": "P2w6IZHZUUWD"
      },
      "source": [
        "lenet5_n = LeNet5()\n",
        "\n",
        "loss = torch.nn.CrossEntropyLoss()\n",
        "optimizer = torch.optim.SGD(lenet5_n.parameters(), momentum=0.7, lr=1.0e-2)"
      ],
      "execution_count": 272,
      "outputs": []
    },
    {
      "cell_type": "code",
      "metadata": {
        "colab": {
          "base_uri": "https://localhost:8080/"
        },
        "id": "7qnY4uyFUhlR",
        "outputId": "f05e18ba-25c7-4acc-f96c-2d05c5d9880a"
      },
      "source": [
        "batch_size = 200\n",
        "\n",
        "test_accuracy_historyb700 = []\n",
        "test_loss_historyb700 = []\n",
        "\n",
        "\n",
        "for epoch in range(15):\n",
        "    order = np.random.permutation(len(X_train))\n",
        "    for start_index in range(0, len(X_train), batch_size):\n",
        "        optimizer.zero_grad()\n",
        "        \n",
        "        batch_indexes = order[start_index:start_index+batch_size]\n",
        "        \n",
        "        X_batch = X_train[batch_indexes]\n",
        "        y_batch = y_train[batch_indexes]\n",
        "        \n",
        "        preds = lenet5_n.forward(X_batch) \n",
        "        \n",
        "        loss_value = loss(preds, y_batch)\n",
        "        loss_value.backward()\n",
        "        \n",
        "        optimizer.step()\n",
        "        \n",
        "    test_preds = lenet5_n.forward(X_test)\n",
        "    test_loss_historyb700.append(loss(test_preds, y_test).data)\n",
        "    \n",
        "    accuracy = (test_preds.argmax(dim=1) == y_test).float().mean().data\n",
        "    test_accuracy_historyb700.append(accuracy)\n",
        "    \n",
        "    print(accuracy)"
      ],
      "execution_count": 273,
      "outputs": [
        {
          "output_type": "stream",
          "text": [
            "tensor(0.8934)\n",
            "tensor(0.9391)\n",
            "tensor(0.9523)\n",
            "tensor(0.9607)\n",
            "tensor(0.9671)\n",
            "tensor(0.9720)\n",
            "tensor(0.9753)\n",
            "tensor(0.9761)\n",
            "tensor(0.9784)\n",
            "tensor(0.9788)\n",
            "tensor(0.9800)\n",
            "tensor(0.9803)\n",
            "tensor(0.9811)\n",
            "tensor(0.9825)\n",
            "tensor(0.9828)\n"
          ],
          "name": "stdout"
        }
      ]
    },
    {
      "cell_type": "code",
      "metadata": {
        "colab": {
          "base_uri": "https://localhost:8080/",
          "height": 277
        },
        "id": "QqJvLkteYpxo",
        "outputId": "06f8d678-f6ee-4384-a089-2de5391dfdc0"
      },
      "source": [
        "plt.xlabel(\"Epoch number\")\n",
        "plt.ylabel(\"Accurancy\")\n",
        "\n",
        "plt.plot(test_accuracy_historyb700, lw = 2,  label=\"SGD(lr=1.0e-2)\");\n",
        "plt.plot(test_accuracy_historyb200, lw = 2,  label=\"Adam(lr=1.0e-3)\");\n",
        "\n",
        "plt.legend();"
      ],
      "execution_count": 274,
      "outputs": [
        {
          "output_type": "display_data",
          "data": {
            "image/png": "[encoded data removed]",
            "text/plain": [
              "<Figure size 432x288 with 1 Axes>"
            ]
          },
          "metadata": {
            "tags": [],
            "needs_background": "light"
          }
        }
      ]
    },
    {
      "cell_type": "markdown",
      "metadata": {
        "id": "IULQT6eXbpMV"
      },
      "source": [
        "Изменение структуры сверточной сети:\n",
        "\n"
      ]
    },
    {
      "cell_type": "code",
      "metadata": {
        "colab": {
          "base_uri": "https://localhost:8080/"
        },
        "id": "cLDrjnz-bnz-",
        "outputId": "bd86a06d-e569-4163-a177-fcaf66fe6326"
      },
      "source": [
        "MNIST_train = torchvision.datasets.MNIST('./', download=True, train=True)\n",
        "MNIST_test = torchvision.datasets.MNIST('./', download=True, train=False)\n",
        "\n",
        "X_train = MNIST_train.train_data\n",
        "y_train = MNIST_train.train_labels\n",
        "X_test = MNIST_test.test_data\n",
        "y_test = MNIST_test.test_labels"
      ],
      "execution_count": 275,
      "outputs": [
        {
          "output_type": "stream",
          "text": [
            "/usr/local/lib/python3.6/dist-packages/torchvision/datasets/mnist.py:58: UserWarning: train_data has been renamed data\n",
            "  warnings.warn(\"train_data has been renamed data\")\n",
            "/usr/local/lib/python3.6/dist-packages/torchvision/datasets/mnist.py:48: UserWarning: train_labels has been renamed targets\n",
            "  warnings.warn(\"train_labels has been renamed targets\")\n",
            "/usr/local/lib/python3.6/dist-packages/torchvision/datasets/mnist.py:63: UserWarning: test_data has been renamed data\n",
            "  warnings.warn(\"test_data has been renamed data\")\n",
            "/usr/local/lib/python3.6/dist-packages/torchvision/datasets/mnist.py:53: UserWarning: test_labels has been renamed targets\n",
            "  warnings.warn(\"test_labels has been renamed targets\")\n"
          ],
          "name": "stderr"
        }
      ]
    },
    {
      "cell_type": "code",
      "metadata": {
        "id": "-tZlir1rboEM"
      },
      "source": [
        "X_train = X_train.unsqueeze(1).float()\n",
        "X_test = X_test.unsqueeze(1).float()"
      ],
      "execution_count": 276,
      "outputs": []
    },
    {
      "cell_type": "code",
      "metadata": {
        "id": "H0IatbQYccVX"
      },
      "source": [
        "class LeNet5_up(torch.nn.Module):\n",
        "    def __init__(self):\n",
        "        super(LeNet5_up, self).__init__()\n",
        "        \n",
        "        self.conv1 = torch.nn.Conv2d(\n",
        "            in_channels=1, out_channels=6, kernel_size=3, padding=1)\n",
        "        self.conv11 = torch.nn.Conv2d(\n",
        "            in_channels=6, out_channels=6, kernel_size=3, padding=1)\n",
        "        self.act1  = torch.nn.ReLU()\n",
        "        self.pool1 = torch.nn.MaxPool2d(kernel_size=2, stride=2)\n",
        "       \n",
        "        self.conv2 = torch.nn.Conv2d(\n",
        "            in_channels=6, out_channels=16, kernel_size=3, padding=0)\n",
        "        self.conv22 = torch.nn.Conv2d(\n",
        "            in_channels=16, out_channels=16, kernel_size=3, padding=0)\n",
        "        self.act2  = torch.nn.ReLU()\n",
        "        self.pool2 = torch.nn.MaxPool2d(kernel_size=2, stride=2)\n",
        "        \n",
        "        self.fc1   = torch.nn.Linear(5 * 5 * 16, 120)\n",
        "        self.act3  = torch.nn.ReLU()\n",
        "        \n",
        "        self.fc2   = torch.nn.Linear(120, 84)\n",
        "        self.act4  = torch.nn.ReLU()\n",
        "        \n",
        "        self.fc3   = torch.nn.Linear(84, 10)\n",
        "    \n",
        "    def forward(self, x):\n",
        "        \n",
        "        x = self.conv1(x)\n",
        "        x = self.conv11(x)\n",
        "        x = self.act1(x)\n",
        "        x = self.pool1(x)\n",
        "        \n",
        "        x = self.conv2(x)\n",
        "        x = self.conv22(x)\n",
        "        x = self.act2(x)\n",
        "        x = self.pool2(x)\n",
        "        \n",
        "        x = x.view(x.size(0), x.size(1) * x.size(2) * x.size(3))\n",
        "\n",
        "        x = self.fc1(x)\n",
        "        x = self.act3(x)\n",
        "        x = self.fc2(x)\n",
        "        x = self.act4(x)\n",
        "        x = self.fc3(x)\n",
        "        \n",
        "        return x\n",
        "    \n"
      ],
      "execution_count": 277,
      "outputs": []
    },
    {
      "cell_type": "code",
      "metadata": {
        "id": "om7xJiv5dJsO"
      },
      "source": [
        "lenet5_up = LeNet5_up()\n",
        "\n",
        "loss = torch.nn.CrossEntropyLoss()\n",
        "optimizer = torch.optim.Adam(lenet5_up.parameters(), lr=1.0e-2)"
      ],
      "execution_count": 278,
      "outputs": []
    },
    {
      "cell_type": "code",
      "metadata": {
        "colab": {
          "base_uri": "https://localhost:8080/"
        },
        "id": "T4_FwgXqdaoW",
        "outputId": "7a5237f5-9ed8-461a-a588-d28551c7324b"
      },
      "source": [
        "batch_size = 700\n",
        "\n",
        "test_accuracy_history_up = []\n",
        "test_loss_history_up = []\n",
        "\n",
        "\n",
        "for epoch in range(15):\n",
        "    order = np.random.permutation(len(X_train))\n",
        "    for start_index in range(0, len(X_train), batch_size):\n",
        "        optimizer.zero_grad()\n",
        "        \n",
        "        batch_indexes = order[start_index:start_index+batch_size]\n",
        "        \n",
        "        X_batch = X_train[batch_indexes]\n",
        "        y_batch = y_train[batch_indexes]\n",
        "        \n",
        "        preds = lenet5_up.forward(X_batch) \n",
        "        \n",
        "        loss_value = loss(preds, y_batch)\n",
        "        loss_value.backward()\n",
        "        \n",
        "        optimizer.step()\n",
        "        \n",
        "    test_preds = lenet5_up.forward(X_test)\n",
        "    test_loss_history_up.append(loss(test_preds, y_test).data)\n",
        "    \n",
        "    accuracy = (test_preds.argmax(dim=1) == y_test).float().mean().data\n",
        "    test_accuracy_history_up.append(accuracy)\n",
        "    \n",
        "    print(accuracy)"
      ],
      "execution_count": 279,
      "outputs": [
        {
          "output_type": "stream",
          "text": [
            "tensor(0.9305)\n",
            "tensor(0.9623)\n",
            "tensor(0.9691)\n",
            "tensor(0.9732)\n",
            "tensor(0.9783)\n",
            "tensor(0.9795)\n",
            "tensor(0.9794)\n",
            "tensor(0.9733)\n",
            "tensor(0.9819)\n",
            "tensor(0.9757)\n",
            "tensor(0.9774)\n",
            "tensor(0.9780)\n",
            "tensor(0.9732)\n",
            "tensor(0.9786)\n",
            "tensor(0.9818)\n"
          ],
          "name": "stdout"
        }
      ]
    },
    {
      "cell_type": "code",
      "metadata": {
        "colab": {
          "base_uri": "https://localhost:8080/",
          "height": 277
        },
        "id": "DpYTFsytdx4r",
        "outputId": "3f38fc0e-e2ea-418c-9f87-3be26470361a"
      },
      "source": [
        "plt.xlabel(\"Epoch number\")\n",
        "plt.ylabel(\"Accurancy\")\n",
        "\n",
        "plt.plot(test_accuracy_historyb200, lw = 2,  label=\"LeNet5\");\n",
        "plt.plot(test_accuracy_history_up, lw = 2,  label=\"LeNet5_update\");\n",
        "\n",
        "plt.legend();"
      ],
      "execution_count": 280,
      "outputs": [
        {
          "output_type": "display_data",
          "data": {
            "image/png": "[encoded data removed]",
            "text/plain": [
              "<Figure size 432x288 with 1 Axes>"
            ]
          },
          "metadata": {
            "tags": [],
            "needs_background": "light"
          }
        }
      ]
    }
  ]
}